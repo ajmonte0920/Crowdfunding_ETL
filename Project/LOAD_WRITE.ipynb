{
 "cells": [
  {
   "cell_type": "code",
   "execution_count": null,
   "id": "e680e516-a2d9-42a8-ab13-b4fa46fbfca8",
   "metadata": {},
   "outputs": [],
   "source": [
    "# for database connections\n",
    "import sqlalchemy\n",
    "from sqlalchemy import create_engine, inspect, text\n",
    "\n",
    "# data\n",
    "import pandas as pd\n",
    "import numpy as np\n",
    "\n",
    "# viz\n",
    "import seaborn as sns\n",
    "import matplotlib.pyplot as plt"
   ]
  },
  {
   "cell_type": "code",
   "execution_count": null,
   "id": "b5060df2-0835-48bb-bdd1-4079c473ee3b",
   "metadata": {},
   "outputs": [],
   "source": [
    "SQL_USERNAME = \"postgres\"\n",
    "SQL_PASSWORD = \"postgres\"\n",
    "SQL_IP = \"localhost\"\n",
    "PORT = 5432\n",
    "DATABASE = \"crowdfunding_db\""
   ]
  },
  {
   "cell_type": "code",
   "execution_count": null,
   "id": "db608c15-23a3-4541-b11c-136e24f6d7d7",
   "metadata": {},
   "outputs": [],
   "source": [
    "connection_string = f\"postgresql+psycopg2://{SQL_USERNAME}:{SQL_PASSWORD}@{SQL_IP}:{PORT}/{DATABASE}\"\n",
    "engine = create_engine(connection_string)"
   ]
  },
  {
   "cell_type": "code",
   "execution_count": null,
   "id": "be1b2cd2-c9f2-4bb1-b49b-e67dde8b893f",
   "metadata": {},
   "outputs": [],
   "source": [
    "# explore and understand the data\n",
    "\n",
    "# Create the inspector and connect it to the engine\n",
    "inspector = inspect(engine)\n",
    "\n",
    "# Collect the names of tables within the database\n",
    "tables = inspector.get_table_names()\n",
    "\n",
    "# Using the inspector to print the column names within each table and its types\n",
    "for table in tables:\n",
    "    print(table)\n",
    "    columns = inspector.get_columns(table)\n",
    "    for column in columns:\n",
    "        print(column[\"name\"], column[\"type\"])\n",
    "        \n",
    "    print()"
   ]
  },
  {
   "cell_type": "code",
   "execution_count": null,
   "id": "b18817ed-9594-45e5-ac30-3d88f2cb11d5",
   "metadata": {},
   "outputs": [],
   "source": [
    "# Read in CSVs\n",
    "df_campaign = pd.read_csv(\"Resources/campaign.csv\")\n",
    "df_category = pd.read_csv(\"Resources/category.csv\")\n",
    "df_contacts = pd.read_csv(\"Resources/contacts.csv\")\n",
    "df_subcategory = pd.read_csv(\"Resources/subcategory.csv\")"
   ]
  },
  {
   "cell_type": "code",
   "execution_count": null,
   "id": "adde9445-29e1-4984-bab1-6795379cf392",
   "metadata": {},
   "outputs": [],
   "source": [
    "# Send CSVs to DataBase\n",
    "df_campaign.to_sql(\"campaign\", schema=\"public\", con=engine, index=False, if_exists=\"append\", method=\"multi\")\n",
    "df_category.to_sql(\"category\", schema=\"public\", con=engine, index=False, if_exists=\"append\", method=\"multi\")\n",
    "df_contacts.to_sql(\"contacts\", schema=\"public\", con=engine, index=False, if_exists=\"append\", method=\"multi\")\n",
    "df_subcategory.to_sql(\"subcategory\", schema=\"public\", con=engine, index=False, if_exists=\"append\", method=\"multi\")"
   ]
  },
  {
   "cell_type": "code",
   "execution_count": null,
   "id": "2b885f01-d372-46c6-b17a-77a866e2f950",
   "metadata": {},
   "outputs": [],
   "source": []
  }
 ],
 "metadata": {
  "kernelspec": {
   "display_name": "Python 3 (ipykernel)",
   "language": "python",
   "name": "python3"
  },
  "language_info": {
   "codemirror_mode": {
    "name": "ipython",
    "version": 3
   },
   "file_extension": ".py",
   "mimetype": "text/x-python",
   "name": "python",
   "nbconvert_exporter": "python",
   "pygments_lexer": "ipython3",
   "version": "3.10.14"
  }
 },
 "nbformat": 4,
 "nbformat_minor": 5
}
